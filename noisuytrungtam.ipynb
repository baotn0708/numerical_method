{
 "cells": [
  {
   "cell_type": "markdown",
   "metadata": {},
   "source": [
    "Gauss I"
   ]
  },
  {
   "cell_type": "code",
   "execution_count": 4,
   "metadata": {},
   "outputs": [
    {
     "name": "stdout",
     "output_type": "stream",
     "text": [
      "1\t2.7183\t0.1394\t0.0071\t0.0004\t0.0\t0.0\t0.0001\t\n",
      "1.05\t2.8577\t0.1465\t0.0075\t0.0004\t0.0\t0.0001\t\n",
      "1.1\t3.0042\t0.154\t0.0079\t0.0004\t0.0001\t\n",
      "1.15\t3.1582\t0.1619\t0.0083\t0.0005\t\n",
      "1.2\t3.3201\t0.1702\t0.0088\t\n",
      "1.25\t3.4903\t0.179\t\n",
      "1.3\t3.6693\t\n",
      "0.1619\n",
      "0.0079\n",
      "0.0004\n",
      "0.0\n",
      "0.0001\n",
      "0.0001\n",
      "\n",
      "Value at 1.17 is 3.2246\n"
     ]
    }
   ],
   "source": [
    "# Python3 code for Gauss's Forward Formula\n",
    "# importing library\n",
    "import numpy as np\n",
    "\n",
    "# function for calculating coefficient of Y \n",
    "def p_cal(p, n): \n",
    "\n",
    "\ttemp = p; \n",
    "\tfor i in range(1, n): \n",
    "\t\tif(i%2==1):\n",
    "\t\t\ttemp * (p - i)\n",
    "\t\telse:\n",
    "\t\t\ttemp * (p + i)\n",
    "\treturn temp; \n",
    "# function for factorial\n",
    "def fact(n): \n",
    "\tf = 1\n",
    "\tfor i in range(2, n + 1): \n",
    "\t\tf *= i\n",
    "\treturn f \n",
    "\n",
    "# storing available data\n",
    "n = 7; \n",
    "x = [ 1, 1.05, 1.10, 1.15, 1.20, 1.25, 1.30 ]; \n",
    "\n",
    "y = [[0 for i in range(n)] \n",
    "\t\tfor j in range(n)]; \n",
    "y[0][0] = 2.7183\n",
    "y[1][0] = 2.8577 \n",
    "y[2][0] = 3.0042\n",
    "y[3][0] = 3.1582 \n",
    "y[4][0] = 3.3201 \n",
    "y[5][0] = 3.4903 \n",
    "y[6][0] = 3.6693 \n",
    "\n",
    "# Generating Gauss's triangle\n",
    "for i in range(1, n): \n",
    "\tfor j in range(n - i): \n",
    "\t\ty[j][i] = np.round((y[j + 1][i - 1] - y[j][i - 1]),4); \n",
    "\n",
    "# Printing the Triangle \n",
    "for i in range(n): \n",
    "\tprint(x[i], end = \"\\t\"); \n",
    "\tfor j in range(n - i): \n",
    "\t\tprint(y[i][j], end = \"\\t\"); \n",
    "\tprint(\"\"); \n",
    "\n",
    "# Value of Y need to predict on \n",
    "value = 1.17; \n",
    "\n",
    "# implementing Formula\n",
    "sum = y[int(n/2)][0]; \n",
    "p = (value - x[int(n/2)]) / (x[1] - x[0])\n",
    "\n",
    "for i in range(1,n): \n",
    "\tprint(y[int((n-i)/2)][i])\n",
    "\tsum = sum + (p_cal(p, i) * y[int((n-i)/2)][i]) / fact(i)\n",
    "\n",
    "print(\"\\nValue at\", value, \n",
    "\t\"is\", round(sum, 4)); \n",
    "\n"
   ]
  },
  {
   "cell_type": "code",
   "execution_count": 4,
   "metadata": {},
   "outputs": [
    {
     "name": "stdout",
     "output_type": "stream",
     "text": [
      "Giá trị nội suy tại x = 1.17 là: 3.2189255999999995\n"
     ]
    },
    {
     "data": {
      "text/plain": [
       "6"
      ]
     },
     "execution_count": 4,
     "metadata": {},
     "output_type": "execute_result"
    }
   ],
   "source": [
    "import numpy as np\n",
    "import math \n",
    "def gauss_forward_interpolation(x, y, x_interp):\n",
    "    n = len(x)\n",
    "    q = np.zeros((n, n))\n",
    "    q[:,0] = y\n",
    "    \n",
    "    # Tính bảng hiệu chênh lệch hữu hạn\n",
    "    for i in range(1, n):\n",
    "        for j in range(n-i):\n",
    "            q[j,i] = q[j+1,i-1] - q[j,i-1]\n",
    "    \n",
    "    # Tìm mốc gần x nhất\n",
    "    idx = np.argmin(np.abs(x - x_interp))\n",
    "    \n",
    "    # Tính giá trị nội suy\n",
    "    interp_value = y[idx]\n",
    "    h = x[1] - x[0]  # Giả sử các mốc cách đều nhau\n",
    "    t = (x_interp - x[idx]) / h\n",
    "    for i in range(1, idx+1):\n",
    "        t_prod = np.prod([t-k for k in range(i)]) / math.factorial(i)\n",
    "        interp_value += t_prod * q[idx-i,i]\n",
    "    \n",
    "    return interp_value\n",
    "\n",
    "# Ví dụ\n",
    "x = np.array([ 1, 1.05, 1.10, 1.15, 1.20, 1.25, 1.30 ])\n",
    "y = np.array([2.7183, 2.8577, 3.0042, 3.1582, 3.3201, 3.4903, 3.6693])\n",
    "x_interp = 1.17\n",
    "\n",
    "interp_value = gauss_forward_interpolation(x, y, x_interp)\n",
    "print(f\"Giá trị nội suy tại x = {x_interp} là: {interp_value}\")\n",
    "math.factorial(3)"
   ]
  }
 ],
 "metadata": {
  "kernelspec": {
   "display_name": ".venv",
   "language": "python",
   "name": "python3"
  },
  "language_info": {
   "codemirror_mode": {
    "name": "ipython",
    "version": 3
   },
   "file_extension": ".py",
   "mimetype": "text/x-python",
   "name": "python",
   "nbconvert_exporter": "python",
   "pygments_lexer": "ipython3",
   "version": "3.11.2"
  }
 },
 "nbformat": 4,
 "nbformat_minor": 2
}
