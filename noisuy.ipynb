{
 "cells": [
  {
   "cell_type": "code",
   "execution_count": 1,
   "metadata": {},
   "outputs": [],
   "source": [
    "import numpy as np\n",
    "import matplotlib.pyplot as plt"
   ]
  },
  {
   "cell_type": "markdown",
   "metadata": {},
   "source": [
    "#lagrange rút gọn "
   ]
  },
  {
   "cell_type": "code",
   "execution_count": 19,
   "metadata": {},
   "outputs": [],
   "source": [
    "def lagrange_coeffs(x, y):\n",
    "    n = len(x)\n",
    "    # Khởi tạo mảng hệ số cuối cùng với zeros\n",
    "    coeffs_final = np.zeros(n)\n",
    "    \n",
    "    # Tính hệ số cho mỗi đa thức Lagrange\n",
    "    for i in range(n):\n",
    "        # Khởi tạo mảng hệ số tạm thời cho đa thức Lagrange hiện tại\n",
    "        temp_coeffs = np.array([y[i]])\n",
    "        \n",
    "        for j in range(n):\n",
    "            if i != j:\n",
    "                # Tạo mảng hệ số cho (x - x[j])\n",
    "                denom = x[i] - x[j]\n",
    "                poly_coeffs = np.array([-x[j] / denom, 1 / denom])\n",
    "                \n",
    "                # Nhân đa thức hiện tại với (x - x[j])\n",
    "                temp_coeffs = np.polynomial.polynomial.polymul(temp_coeffs, poly_coeffs)\n",
    "        \n",
    "        # Cộng dồn vào hệ số cuối cùng\n",
    "        coeffs_final = np.polynomial.polynomial.polyadd(coeffs_final, temp_coeffs)\n",
    "    \n",
    "    # Đảo ngược mảng hệ số để phù hợp với định dạng thông thường\n",
    "    return coeffs_final[::]"
   ]
  },
  {
   "cell_type": "code",
   "execution_count": 20,
   "metadata": {},
   "outputs": [],
   "source": [
    "t_sample = np.array([1, 2, 3, 4, 7])\n",
    "y_sample = np.array([17, 17.5, 76, 210.5, 1970])"
   ]
  },
  {
   "cell_type": "code",
   "execution_count": 22,
   "metadata": {},
   "outputs": [
    {
     "name": "stdout",
     "output_type": "stream",
     "text": [
      "Hệ số của đa thức nội suy Lagrange: [ 104.5 -153.5   81.   -17.     2. ]\n"
     ]
    },
    {
     "data": {
      "image/png": "[encoded data removed]",
      "text/plain": [
       "<Figure size 640x480 with 1 Axes>"
      ]
     },
     "metadata": {},
     "output_type": "display_data"
    }
   ],
   "source": [
    "# Tính hệ số của đa thức nội suy Lagrange\n",
    "coeffs = lagrange_coeffs(t_sample, y_sample)\n",
    "\n",
    "print(\"Hệ số của đa thức nội suy Lagrange:\", coeffs)\n",
    "# vẽ \n",
    "t = np.linspace(0, 8, 100)\n",
    "y = np.polynomial.polynomial.polyval(t, coeffs)\n",
    "plt.plot(t_sample, y_sample, 'ro', label='Dữ liệu mẫu')\n",
    "plt.plot(t, y, label='Đa thức nội suy Lagrange')\n",
    "plt.legend()\n",
    "plt.show()\n"
   ]
  },
  {
   "cell_type": "markdown",
   "metadata": {},
   "source": [
    "Newton rút gọn"
   ]
  },
  {
   "cell_type": "code",
   "execution_count": 1,
   "metadata": {},
   "outputs": [],
   "source": [
    "\n",
    "def proterm(i, x): \n",
    "\tpro = np.array([1.0]) \n",
    "\tfor j in range(i): \n",
    "\t\tpro = np.polynomial.polynomial.polymul(pro, np.array([- x[j], 1])) \n",
    "\treturn pro \n",
    "\n",
    "# Function for calculating \n",
    "# divided difference table \n",
    "def dividedDiffTable(x, y, n):\n",
    "\n",
    "\tfor i in range(1, n): \n",
    "\t\tfor j in range(n - i): \n",
    "\t\t\ty[j][i] = ((y[j][i - 1] - y[j + 1][i - 1]) / (x[j] - x[i + j]))\n",
    "\treturn y\n",
    "\n",
    "# Function for applying Newton's \n",
    "# divided difference formula \n",
    "def applyFormula( x, y, n): \n",
    "\n",
    "\tpoly = np.array([y[0][0]])\n",
    "\n",
    "\tfor i in range(1, n):\n",
    "\t\tprint(poly)\n",
    "\t\tpoly = np.polynomial.polynomial.polyadd(poly, (proterm(i, x) * y[0][i]))\n",
    "\t\n",
    "\treturn poly \n",
    "\n",
    "def printDiffTable(y, n): \n",
    "\n",
    "\tfor i in range(n): \n",
    "\t\tfor j in range(n - i): \n",
    "\t\t\tprint(round(y[i][j], 4), \"\\t\", end = \" \") \n",
    "\n",
    "\t\tprint(\"\") \n",
    " \n",
    "\n",
    "\n"
   ]
  },
  {
   "cell_type": "code",
   "execution_count": 41,
   "metadata": {},
   "outputs": [
    {
     "name": "stdout",
     "output_type": "stream",
     "text": [
      "x: [1, 2, 3, 4, 7]\n",
      "y: [[17.0, 0, 0, 0, 0], [17.5, 0, 0, 0, 0], [76.0, 0, 0, 0, 0], [210.5, 0, 0, 0, 0], [1970.0, 0, 0, 0, 0]]\n"
     ]
    }
   ],
   "source": [
    "# chuẩn bị dữ liệu cho nội suy newton mốc bất kì\n",
    "t_sample = np.array([1, 2, 3, 4, 7])\n",
    "y_sample = np.array([17, 17.5, 76, 210.5, 1970])\n",
    "\n",
    "# Chuyển đổi sang dạng x và y như trong ví dụ ban đầu\n",
    "n = len(t_sample)  # Số lượng input\n",
    "x = t_sample.tolist()  # Chuyển đổi t_sample thành list cho x\n",
    "\n",
    "# Khởi tạo mảng y với giá trị 0\n",
    "y = [[0 for i in range(n)] for j in range(n)]\n",
    "\n",
    "# Điền giá trị vào y[i][0] từ y_sample\n",
    "for i in range(n):\n",
    "    y[i][0] = y_sample[i]"
   ]
  },
  {
   "cell_type": "code",
   "execution_count": 42,
   "metadata": {},
   "outputs": [
    {
     "name": "stdout",
     "output_type": "stream",
     "text": [
      "17.0 \t 0.5 \t 29.0 \t 3.0 \t 2.0 \t \n",
      "17.5 \t 58.5 \t 38.0 \t 15.0 \t \n",
      "76.0 \t 134.5 \t 113.0 \t \n",
      "210.5 \t 586.5 \t \n",
      "1970.0 \t \n",
      "[17.]\n",
      "[16.5  0.5]\n",
      "[ 74.5 -86.5  29. ]\n",
      "[ 56.5 -53.5  11.    3. ]\n"
     ]
    },
    {
     "data": {
      "text/plain": [
       "array([ 104.5, -153.5,   81. ,  -17. ,    2. ])"
      ]
     },
     "execution_count": 42,
     "metadata": {},
     "output_type": "execute_result"
    }
   ],
   "source": [
    "# calculating divided difference table \n",
    "y=dividedDiffTable(x, y, n) \n",
    "\n",
    "# displaying divided difference table \n",
    "printDiffTable(y, n) \n",
    "applyFormula(x, y, n)"
   ]
  },
  {
   "cell_type": "markdown",
   "metadata": {},
   "source": [
    "newton mốc cách đều"
   ]
  },
  {
   "cell_type": "code",
   "execution_count": 47,
   "metadata": {},
   "outputs": [
    {
     "name": "stdout",
     "output_type": "stream",
     "text": [
      "45\t0.7071\t0.05890000000000006\t-0.005700000000000038\t-0.0007000000000000339\t0.000600000000000156\t\n",
      "50\t0.766\t0.053200000000000025\t-0.006400000000000072\t-9.999999999987796e-05\t\n",
      "55\t0.8192\t0.04679999999999995\t-0.00649999999999995\t\n",
      "60\t0.866\t0.0403\t\n",
      "65\t0.9063\t\n",
      "\n",
      "Value at 52 is 0.788017\n"
     ]
    }
   ],
   "source": [
    "# Python3 Program to interpolate using \n",
    "# newton forward interpolation\n",
    "\n",
    "# calculating u mentioned in the formula\n",
    "def u_cal(u, n):\n",
    "\n",
    "\ttemp = u\n",
    "\tfor i in range(1, n):\n",
    "\t\ttemp = temp * (u - i)\n",
    "\treturn temp\n",
    "\n",
    "# calculating factorial of given number n\n",
    "def fact(n):\n",
    "\tf = 1\n",
    "\tfor i in range(2, n + 1):\n",
    "\t\tf *= i\n",
    "\treturn f\n",
    "\n",
    "# Driver Code\n",
    "\n",
    "# Number of values given\n",
    "n = 5\n",
    "x = [ 45, 50, 55, 60, 65]\n",
    "\t\n",
    "# y[][] is used for difference table\n",
    "# with y[][0] used for input\n",
    "y = [[0 for i in range(n)]\n",
    "\t\tfor j in range(n)]\n",
    "y[0][0] = 0.7071\n",
    "y[1][0] = 0.7660\n",
    "y[2][0] = 0.8192\n",
    "y[3][0] = 0.8660\n",
    "y[4][0] = 0.9063\n",
    "\n",
    "# Calculating the forward difference\n",
    "# table\n",
    "for i in range(1, n):\n",
    "\tfor j in range(n - i):\n",
    "\t\ty[j][i] = y[j + 1][i - 1] - y[j][i - 1]\n",
    "\n",
    "# Displaying the forward difference table\n",
    "for i in range(n):\n",
    "\tprint(x[i], end = \"\\t\")\n",
    "\tfor j in range(n - i):\n",
    "\t\tprint(y[i][j], end = \"\\t\")\n",
    "\tprint(\"\")\n",
    "\n",
    "# Value to interpolate at\n",
    "value = 52\n",
    "\n",
    "# initializing u and sum\n",
    "sum = y[0][0]\n",
    "u = (value - x[0]) / (x[1] - x[0])\n",
    "for i in range(1,n):\n",
    "\tsum = sum + (u_cal(u, i) * y[0][i]) / fact(i)\n",
    "\n",
    "print(\"\\nValue at\", value, \n",
    "\t\"is\", round(sum, 6))\n",
    "\n"
   ]
  },
  {
   "cell_type": "code",
   "execution_count": 48,
   "metadata": {},
   "outputs": [
    {
     "name": "stdout",
     "output_type": "stream",
     "text": [
      "46\t\n",
      "66\t20\t\n",
      "81\t15\t-5\t\n",
      "93\t12\t-3\t2\t\n",
      "101\t8\t-4\t-1\t-3\t\n",
      "\n",
      " Value at 1925 is 103.49792\n"
     ]
    }
   ],
   "source": [
    "# Python3 Program to interpolate using\n",
    "# newton backward interpolation\n",
    "\n",
    "# Calculation of u mentioned in formula\n",
    "def u_cal(u, n):\n",
    "\ttemp = u\n",
    "\tfor i in range(n):\n",
    "\t\ttemp = temp * (u + i)\n",
    "\treturn temp\n",
    "\n",
    "# Calculating factorial of given n\n",
    "def fact(n):\n",
    "\tf = 1\n",
    "\tfor i in range(2, n + 1):\n",
    "\t\tf *= i\n",
    "\treturn f\n",
    "\n",
    "\n",
    "# Driver code\n",
    "\n",
    "\n",
    "# number of values given\n",
    "n = 5\n",
    "x = [1891, 1901, 1911, 1921, 1931]\n",
    "\n",
    "# y is used for difference\n",
    "# table and y[0] used for input\n",
    "y = [[0.0 for _ in range(n)] for __ in range(n)]\n",
    "y[0][0] = 46\n",
    "y[1][0] = 66\n",
    "y[2][0] = 81\n",
    "y[3][0] = 93\n",
    "y[4][0] = 101\n",
    "\n",
    "# Calculating the backward difference table\n",
    "for i in range(1, n):\n",
    "\tfor j in range(n - 1, i - 1, -1):\n",
    "\t\ty[j][i] = y[j][i - 1] - y[j - 1][i - 1]\n",
    "\n",
    "\n",
    "# Displaying the backward difference table\n",
    "for i in range(n):\n",
    "\tfor j in range(i + 1):\n",
    "\t\tprint(y[i][j], end=\"\\t\")\n",
    "\tprint()\n",
    "\n",
    "# Value to interpolate at\n",
    "value = 1925\n",
    "\n",
    "# Initializing u and sum\n",
    "sum = y[n - 1][0]\n",
    "u = (value - x[n - 1]) / (x[1] - x[0])\n",
    "for i in range(1, n):\n",
    "\tsum = sum + (u_cal(u, i) * y[n - 1][i]) / fact(i)\n",
    "\n",
    "print(\"\\n Value at\", value, \"is\", sum)\n",
    "\n",
    "\n",
    "# This code is contributed by phasing17\n"
   ]
  },
  {
   "cell_type": "code",
   "execution_count": null,
   "metadata": {},
   "outputs": [],
   "source": []
  }
 ],
 "metadata": {
  "kernelspec": {
   "display_name": "Python 3",
   "language": "python",
   "name": "python3"
  },
  "language_info": {
   "codemirror_mode": {
    "name": "ipython",
    "version": 3
   },
   "file_extension": ".py",
   "mimetype": "text/x-python",
   "name": "python",
   "nbconvert_exporter": "python",
   "pygments_lexer": "ipython3",
   "version": "3.9.6"
  }
 },
 "nbformat": 4,
 "nbformat_minor": 2
}
