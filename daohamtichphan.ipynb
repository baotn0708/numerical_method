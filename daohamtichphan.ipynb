{
 "cells": [
  {
   "cell_type": "code",
   "execution_count": 3,
   "metadata": {},
   "outputs": [],
   "source": [
    "import numpy as np\n",
    "import matplotlib.pyplot as plt\n",
    "from scipy.interpolate import lagrange"
   ]
  },
  {
   "cell_type": "code",
   "execution_count": 7,
   "metadata": {},
   "outputs": [
    {
     "name": "stdout",
     "output_type": "stream",
     "text": [
      "<class 'numpy.poly1d'>\n"
     ]
    }
   ],
   "source": [
    "t_sample = np.array([1, 2, 3, 4, 7])\n",
    "y_sample = np.array([17, 17.5, 76, 210.5, 1970])\n",
    "poly = lagrange(t_sample, y_sample)\n",
    "print(type(poly))"
   ]
  },
  {
   "cell_type": "code",
   "execution_count": 11,
   "metadata": {},
   "outputs": [
    {
     "name": "stdout",
     "output_type": "stream",
     "text": [
      "2699.4000000000137\n"
     ]
    }
   ],
   "source": [
    "#đạo hàm\n",
    "poly_prime = np.polyder(poly)\n",
    "#tích phân từ a tới b\n",
    "a = 1\n",
    "b = 7\n",
    "tichphan = poly.integ()\n",
    "print(tichphan(b) - tichphan(a))\n"
   ]
  },
  {
   "cell_type": "code",
   "execution_count": 12,
   "metadata": {},
   "outputs": [
    {
     "name": "stdout",
     "output_type": "stream",
     "text": [
      "Giá trị tích phân xấp xỉ: 0.33333349999999995\n"
     ]
    }
   ],
   "source": [
    "import numpy as np\n",
    "\n",
    "def trapezoidal_rule(f, a, b, n):\n",
    "    \"\"\"\n",
    "    Tính tích phân của hàm f(x) trên khoảng [a, b] sử dụng công thức hình thang.\n",
    "    \n",
    "    Parameters:\n",
    "    - f: Hàm số f(x) cần tính tích phân.\n",
    "    - a, b: Giới hạn dưới và giới hạn trên của khoảng tích phân.\n",
    "    - n: Số lượng phần tử chia nhỏ khoảng [a, b].\n",
    "    \n",
    "    Returns:\n",
    "    - Giá trị xấp xỉ của tích phân.\n",
    "    \"\"\"\n",
    "    h = (b - a) / n  # Tính khoảng cách giữa các điểm chia\n",
    "    x = np.linspace(a, b, n+1)  # Tạo mảng các điểm chia từ a đến b\n",
    "    fx = f(x)  # Tính giá trị của hàm tại mỗi điểm chia\n",
    "    \n",
    "    # Áp dụng công thức hình thang\n",
    "    I = h * (0.5 * fx[0] + np.sum(fx[1:-1]) + 0.5 * fx[-1])\n",
    "    return I\n",
    "\n",
    "# Ví dụ: Tính tích phân của hàm f(x) = x^2 trên khoảng [0, 1]\n",
    "f = lambda x: x**2\n",
    "a = 0\n",
    "b = 1\n",
    "n = 1000  # Số lượng phần tử chia nhỏ\n",
    "\n",
    "integral_value = trapezoidal_rule(f, a, b, n)\n",
    "print(\"Giá trị tích phân xấp xỉ:\", integral_value)"
   ]
  },
  {
   "cell_type": "code",
   "execution_count": 13,
   "metadata": {},
   "outputs": [
    {
     "name": "stdout",
     "output_type": "stream",
     "text": [
      "Giá trị tích phân xấp xỉ: 0.3333333333333333\n"
     ]
    }
   ],
   "source": [
    "import numpy as np\n",
    "\n",
    "def simpson_rule(f, a, b, n):\n",
    "    \"\"\"\n",
    "    Tính tích phân của hàm f(x) trên khoảng [a, b] sử dụng công thức Simpson 1/3.\n",
    "    \n",
    "    Parameters:\n",
    "    - f: Hàm số f(x) cần tính tích phân.\n",
    "    - a, b: Giới hạn dưới và giới hạn trên của khoảng tích phân.\n",
    "    - n: Số lượng phần tử chia nhỏ khoảng [a, b], cần là số chẵn.\n",
    "    \n",
    "    Returns:\n",
    "    - Giá trị xấp xỉ của tích phân.\n",
    "    \"\"\"\n",
    "    if n % 2 == 1:\n",
    "        raise ValueError(\"n phải là số chẵn\")\n",
    "    \n",
    "    h = (b - a) / n\n",
    "    x = np.linspace(a, b, n+1)\n",
    "    fx = f(x)\n",
    "    \n",
    "    # Tính tổng cho các phần tử có chỉ số lẻ và chẵn\n",
    "    odd_sum = np.sum(fx[1:n:2])\n",
    "    even_sum = np.sum(fx[2:n-1:2])\n",
    "    \n",
    "    # Áp dụng công thức Simpson 1/3\n",
    "    I = (h/3) * (fx[0] + 4*odd_sum + 2*even_sum + fx[-1])\n",
    "    return I\n",
    "\n",
    "# Ví dụ: Tính tích phân của hàm f(x) = x^2 trên khoảng [0, 1]\n",
    "f = lambda x: x**2\n",
    "a = 0\n",
    "b = 1\n",
    "n = 1000  # Số lượng phần tử chia nhỏ, cần là số chẵn\n",
    "\n",
    "integral_value = simpson_rule(f, a, b, n)\n",
    "print(\"Giá trị tích phân xấp xỉ:\", integral_value)"
   ]
  }
 ],
 "metadata": {
  "kernelspec": {
   "display_name": ".venv",
   "language": "python",
   "name": "python3"
  },
  "language_info": {
   "codemirror_mode": {
    "name": "ipython",
    "version": 3
   },
   "file_extension": ".py",
   "mimetype": "text/x-python",
   "name": "python",
   "nbconvert_exporter": "python",
   "pygments_lexer": "ipython3",
   "version": "3.11.2"
  }
 },
 "nbformat": 4,
 "nbformat_minor": 2
}
