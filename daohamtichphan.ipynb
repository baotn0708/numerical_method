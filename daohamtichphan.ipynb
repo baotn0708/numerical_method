{
 "cells": [
  {
   "cell_type": "code",
   "execution_count": 3,
   "metadata": {},
   "outputs": [],
   "source": [
    "import numpy as np\n",
    "import matplotlib.pyplot as plt\n",
    "from scipy.interpolate import lagrange"
   ]
  },
  {
   "cell_type": "code",
   "execution_count": 7,
   "metadata": {},
   "outputs": [
    {
     "name": "stdout",
     "output_type": "stream",
     "text": [
      "<class 'numpy.poly1d'>\n"
     ]
    }
   ],
   "source": [
    "t_sample = np.array([1, 2, 3, 4, 7])\n",
    "y_sample = np.array([17, 17.5, 76, 210.5, 1970])\n",
    "poly = lagrange(t_sample, y_sample)\n",
    "print(type(poly))"
   ]
  },
  {
   "cell_type": "code",
   "execution_count": 11,
   "metadata": {},
   "outputs": [
    {
     "name": "stdout",
     "output_type": "stream",
     "text": [
      "2699.4000000000137\n"
     ]
    }
   ],
   "source": [
    "#đạo hàm\n",
    "poly_prime = np.polyder(poly)\n",
    "#tích phân từ a tới b\n",
    "a = 1\n",
    "b = 7\n",
    "tichphan = poly.integ()\n",
    "print(tichphan(b) - tichphan(a))\n"
   ]
  },
  {
   "cell_type": "code",
   "execution_count": 18,
   "metadata": {},
   "outputs": [
    {
     "name": "stdout",
     "output_type": "stream",
     "text": [
      "Giá trị tích phân xấp xỉ: 2.6666679999999996\n"
     ]
    }
   ],
   "source": [
    "import numpy as np\n",
    "\n",
    "def trapezoidal_rule(f, a, b, n):\n",
    "    \"\"\"\n",
    "    Tính tích phân của hàm f(x) trên khoảng [a, b] sử dụng công thức hình thang.\n",
    "    \n",
    "    Parameters:\n",
    "    - f: Hàm số f(x) cần tính tích phân.\n",
    "    - a, b: Giới hạn dưới và giới hạn trên của khoảng tích phân.\n",
    "    - n: Số lượng phần tử chia nhỏ khoảng [a, b].\n",
    "    \n",
    "    Returns:\n",
    "    - Giá trị xấp xỉ của tích phân.\n",
    "    \"\"\"\n",
    "    h = (b - a) / n  # Tính khoảng cách giữa các điểm chia\n",
    "    x = np.linspace(a, b, n+1)  # Tạo mảng các điểm chia từ a đến b\n",
    "    fx = f(x)  # Tính giá trị của hàm tại mỗi điểm chia\n",
    "    \n",
    "    # Áp dụng công thức hình thang\n",
    "    I = h * (0.5 * fx[0] + np.sum(fx[1:-1]) + 0.5 * fx[-1])\n",
    "    return I\n",
    "\n",
    "# Ví dụ: Tính tích phân của hàm f(x) = x^2 trên khoảng [0, 1]\n",
    "f = lambda x: x**2\n",
    "a = 0\n",
    "b = 2\n",
    "n = 1000  # Số lượng phần tử chia nhỏ\n",
    "\n",
    "integral_value = trapezoidal_rule(f, a, b, n)\n",
    "print(\"Giá trị tích phân xấp xỉ:\", integral_value)"
   ]
  },
  {
   "cell_type": "code",
   "execution_count": 17,
   "metadata": {},
   "outputs": [
    {
     "name": "stdout",
     "output_type": "stream",
     "text": [
      "Giá trị tích phân xấp xỉ: 2.6666666666666665\n"
     ]
    }
   ],
   "source": [
    "import numpy as np\n",
    "\n",
    "def simpson_rule(f, a, b, n):\n",
    "    \"\"\"\n",
    "    Tính tích phân của hàm f(x) trên khoảng [a, b] sử dụng công thức Simpson 1/3.\n",
    "    \n",
    "    Parameters:\n",
    "    - f: Hàm số f(x) cần tính tích phân.\n",
    "    - a, b: Giới hạn dưới và giới hạn trên của khoảng tích phân.\n",
    "    - n: Số lượng phần tử chia nhỏ khoảng [a, b], cần là số chẵn.\n",
    "    \n",
    "    Returns:\n",
    "    - Giá trị xấp xỉ của tích phân.\n",
    "    \"\"\"\n",
    "    if n % 2 == 1:\n",
    "        raise ValueError(\"n phải là số chẵn\")\n",
    "    \n",
    "    h = (b - a) / n\n",
    "    x = np.linspace(a, b, n+1)\n",
    "    fx = f(x)\n",
    "    \n",
    "    # Tính tổng cho các phần tử có chỉ số lẻ và chẵn\n",
    "    odd_sum = np.sum(fx[1:n:2])\n",
    "    even_sum = np.sum(fx[2:n-1:2])\n",
    "    \n",
    "    # Áp dụng công thức Simpson 1/3\n",
    "    I = (h/3) * (fx[0] + 4*odd_sum + 2*even_sum + fx[-1])\n",
    "    return I\n",
    "\n",
    "# Ví dụ: Tính tích phân của hàm f(x) = x^2 trên khoảng [0, 1]\n",
    "f = lambda x: x**2\n",
    "a = 0\n",
    "b = 2\n",
    "n = 1000  # Số lượng phần tử chia nhỏ, cần là số chẵn\n",
    "\n",
    "integral_value = simpson_rule(f, a, b, n)\n",
    "print(\"Giá trị tích phân xấp xỉ:\", integral_value)"
   ]
  },
  {
   "cell_type": "code",
   "execution_count": 25,
   "metadata": {},
   "outputs": [
    {
     "name": "stdout",
     "output_type": "stream",
     "text": [
      "Hệ số Cotes cho n = 3 : [0.125, 0.3749999999999999, 0.3749999999999999, 0.125]\n",
      "Giá trị tích phân xấp xỉ: 2.666666666666666\n"
     ]
    }
   ],
   "source": [
    "import numpy as np\n",
    "import matplotlib.pyplot as plt\n",
    "import scipy.integrate as integrate\n",
    "import math\n",
    "def hesoCotes(n):\n",
    "    \"\"\"\n",
    "    Tính toán hệ số Cotes\n",
    "    :param n: số điểm\n",
    "    :return: hệ số Cotes\n",
    "    \"\"\"\n",
    "    # công thức H(i, n) = -(-1)^(n-i)/(i!(n-i)!*n)*intergrate(tích các (t-j) với j chạy từ 0 tới n, j!=i) từ 0 tới n\n",
    "    heso = []\n",
    "    for i in range(n+1):\n",
    "        # tính tử số\n",
    "        tu = (-1)**(n-i)\n",
    "        # tính mẫu số\n",
    "        mau = math.factorial(i)*math.factorial(n-i)*n\n",
    "        # tính tích phân\n",
    "        tmp = np.array([1])\n",
    "        for j in range(n+1):\n",
    "            if j != i:\n",
    "                tmp = np.polynomial.polynomial.polymul(tmp,np.array([-j, 1]))\n",
    "        # tính giá trị tích phân\n",
    "        value = integrate.quad(np.polynomial.polynomial.Polynomial(tmp), 0, n)[0]\n",
    "        heso.append(tu/(mau)*value)\n",
    "    return heso\n",
    "def NewtonCotes(f, a, b, n):\n",
    "    \"\"\"\n",
    "    Tính toán tích phân bằng phương pháp Newton-Cotes\n",
    "    :param f: hàm số\n",
    "    :param a: giới hạn dưới\n",
    "    :param b: giới hạn trên\n",
    "    :param n: số điểm\n",
    "    :return: giá trị tích phân\n",
    "    \"\"\"\n",
    "    # tính hệ số Cotes\n",
    "    heso = hesoCotes(n)\n",
    "    # tính giá trị tích phân\n",
    "    I = 0\n",
    "    for i in range(n+1):\n",
    "        I += heso[i]*f(a+i*(b-a)/n)\n",
    "    return I*(b-a)\n",
    "def f(x):\n",
    "    return x**2\n",
    "a = 0\n",
    "b = 2\n",
    "n = 3\n",
    "print(\"Hệ số Cotes cho n =\", n, \":\", hesoCotes(n))\n",
    "print(\"Giá trị tích phân xấp xỉ:\", NewtonCotes(f, a, b, n))\n"
   ]
  }
 ],
 "metadata": {
  "kernelspec": {
   "display_name": ".venv",
   "language": "python",
   "name": "python3"
  },
  "language_info": {
   "codemirror_mode": {
    "name": "ipython",
    "version": 3
   },
   "file_extension": ".py",
   "mimetype": "text/x-python",
   "name": "python",
   "nbconvert_exporter": "python",
   "pygments_lexer": "ipython3",
   "version": "3.9.6"
  }
 },
 "nbformat": 4,
 "nbformat_minor": 2
}
